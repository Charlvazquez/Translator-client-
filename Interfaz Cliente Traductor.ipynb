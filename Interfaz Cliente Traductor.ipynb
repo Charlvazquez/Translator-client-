{
 "cells": [
  {
   "cell_type": "code",
   "execution_count": 1,
   "metadata": {},
   "outputs": [],
   "source": [
    "import socket"
   ]
  },
  {
   "cell_type": "code",
   "execution_count": null,
   "metadata": {},
   "outputs": [
    {
     "name": "stdout",
     "output_type": "stream",
     "text": [
      "Ingresa tu lenguaje:es\n",
      "hola\n"
     ]
    }
   ],
   "source": [
    "lang = input('Ingresa tu lenguaje:')\n",
    "\n",
    "cliente = socket.socket(socket.AF_INET, socket.SOCK_STREAM)\n",
    "cliente.connect((\"localhost\",5555))\n",
    "\n",
    "while True:\n",
    "    mensaje = input(\"\")\n",
    "    if mensaje == \"!q\":\n",
    "        cliente.close()\n",
    "        break\n",
    "    else:\n",
    "        cliente.send(f\"[{lang}]{mensaje}\".encode())"
   ]
  },
  {
   "cell_type": "code",
   "execution_count": null,
   "metadata": {},
   "outputs": [],
   "source": []
  }
 ],
 "metadata": {
  "kernelspec": {
   "display_name": "Python 3",
   "language": "python",
   "name": "python3"
  },
  "language_info": {
   "codemirror_mode": {
    "name": "ipython",
    "version": 3
   },
   "file_extension": ".py",
   "mimetype": "text/x-python",
   "name": "python",
   "nbconvert_exporter": "python",
   "pygments_lexer": "ipython3",
   "version": "3.7.6"
  }
 },
 "nbformat": 4,
 "nbformat_minor": 4
}
