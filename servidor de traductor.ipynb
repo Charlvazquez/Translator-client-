{
 "cells": [
  {
   "cell_type": "code",
   "execution_count": 1,
   "metadata": {},
   "outputs": [],
   "source": [
    "import socket\n",
    "from googletrans import Translator"
   ]
  },
  {
   "cell_type": "code",
   "execution_count": 2,
   "metadata": {},
   "outputs": [],
   "source": [
    "traductor = Translator()\n",
    "server_lang = \"en\""
   ]
  },
  {
   "cell_type": "code",
   "execution_count": null,
   "metadata": {},
   "outputs": [
    {
     "name": "stdout",
     "output_type": "stream",
     "text": [
      "hello\n"
     ]
    }
   ],
   "source": [
    "servidor = socket.socket(socket.AF_INET,socket.SOCK_STREAM)\n",
    "servidor.bind((\"localhost\",5555))\n",
    "servidor.listen()\n",
    "\n",
    "cliente,addr = servidor.accept()\n",
    "while True:\n",
    "    mensaje = cliente.recv(1024).decode()\n",
    "    lang = mensaje[1:mensaje.index(\"]\")]\n",
    "    traduccion = traductor.translate(mensaje[mensaje.index(\"]\")+1:],\n",
    "                                    src=lang, dest=server_lang)\n",
    "    print(traduccion.text)"
   ]
  },
  {
   "cell_type": "code",
   "execution_count": null,
   "metadata": {},
   "outputs": [],
   "source": []
  }
 ],
 "metadata": {
  "kernelspec": {
   "display_name": "Python 3",
   "language": "python",
   "name": "python3"
  },
  "language_info": {
   "codemirror_mode": {
    "name": "ipython",
    "version": 3
   },
   "file_extension": ".py",
   "mimetype": "text/x-python",
   "name": "python",
   "nbconvert_exporter": "python",
   "pygments_lexer": "ipython3",
   "version": "3.7.6"
  }
 },
 "nbformat": 4,
 "nbformat_minor": 4
}
